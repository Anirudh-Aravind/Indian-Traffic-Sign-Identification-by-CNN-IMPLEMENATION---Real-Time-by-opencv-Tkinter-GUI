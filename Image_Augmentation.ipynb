{
 "cells": [
  {
   "cell_type": "markdown",
   "metadata": {},
   "source": [
    "## Importing the Required Libraries"
   ]
  },
  {
   "cell_type": "code",
   "execution_count": 7,
   "metadata": {},
   "outputs": [],
   "source": [
    "import numpy as np\n",
    "import imutils\n",
    "import tensorflow as tf\n",
    "import cv2"
   ]
  },
  {
   "cell_type": "code",
   "execution_count": 8,
   "metadata": {},
   "outputs": [],
   "source": [
    "from imutils import paths\n",
    "from tensorflow import keras\n",
    "from keras.preprocessing.image import ImageDataGenerator,img_to_array,load_img,array_to_img"
   ]
  },
  {
   "cell_type": "markdown",
   "metadata": {},
   "source": [
    "## Takes the images from their folder (stored in our local system)\n",
    "##### eg: \"Drive\\Folder\\Sub_folder\\...sub_folders..\\Sign_Folder_name"
   ]
  },
  {
   "cell_type": "code",
   "execution_count": 9,
   "metadata": {},
   "outputs": [
    {
     "data": {
      "text/plain": [
       "['E:\\\\Traffic_Signal\\\\LOOSE GRAVEL\\\\download (1).jpg',\n",
       " 'E:\\\\Traffic_Signal\\\\LOOSE GRAVEL\\\\download.png',\n",
       " 'E:\\\\Traffic_Signal\\\\LOOSE GRAVEL\\\\images (1).jpg',\n",
       " 'E:\\\\Traffic_Signal\\\\LOOSE GRAVEL\\\\images (2).jpg']"
      ]
     },
     "execution_count": 9,
     "metadata": {},
     "output_type": "execute_result"
    }
   ],
   "source": [
    "image_path=list(paths.list_images('E:\\Traffic_Signal\\LOOSE GRAVEL'))\n",
    "image_path[:4]"
   ]
  },
  {
   "cell_type": "markdown",
   "metadata": {},
   "source": [
    "### Data Augmentation Features\n",
    "###### here I used only some of the augmentation features"
   ]
  },
  {
   "cell_type": "code",
   "execution_count": 13,
   "metadata": {},
   "outputs": [],
   "source": [
    "imgGen = ImageDataGenerator(\n",
    "        rotation_range=30,\n",
    "        zoom_range=0.15,\n",
    "        width_shift_range=0.1,\n",
    "        height_shift_range=0.1,\n",
    "        shear_range=0.15,\n",
    "        horizontal_flip=False,\n",
    "        vertical_flip=False,\n",
    "        brightness_range = (0.5, 1.5),\n",
    "        fill_mode=\"nearest\")"
   ]
  },
  {
   "cell_type": "markdown",
   "metadata": {},
   "source": [
    "#### Take each image from the path(folder_path) and convert into required number of images"
   ]
  },
  {
   "cell_type": "code",
   "execution_count": 14,
   "metadata": {},
   "outputs": [],
   "source": [
    "for i in image_path:\n",
    "    img=cv2.imread(i)\n",
    "    img=img_to_array(img)\n",
    "    X=img.reshape((1,)+img.shape)\n",
    "    j=0\n",
    "    for batch in imgGen.flow(X,batch_size=1,save_format='jpg',save_prefix='__TRsign',\n",
    "                             save_to_dir='E:\\Traffic_Signal\\preview'):\n",
    "        j+=1\n",
    "        if j>6:   # Each image is converted into 6 slightly different images and stored in above mentioned location\n",
    "            break"
   ]
  },
  {
   "cell_type": "code",
   "execution_count": null,
   "metadata": {},
   "outputs": [],
   "source": []
  }
 ],
 "metadata": {
  "kernelspec": {
   "display_name": "Python 3",
   "language": "python",
   "name": "python3"
  },
  "language_info": {
   "codemirror_mode": {
    "name": "ipython",
    "version": 3
   },
   "file_extension": ".py",
   "mimetype": "text/x-python",
   "name": "python",
   "nbconvert_exporter": "python",
   "pygments_lexer": "ipython3",
   "version": "3.8.5"
  }
 },
 "nbformat": 4,
 "nbformat_minor": 4
}
